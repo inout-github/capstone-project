{
 "cells": [
  {
   "cell_type": "markdown",
   "metadata": {},
   "source": [
    "# Capstone Project - The Battle of the Neighborhoods (Week 1)\n",
    "### Applied Data Science Capstone by IBM/Coursera"
   ]
  },
  {
   "cell_type": "markdown",
   "metadata": {},
   "source": [
    "## Table of contents\n",
    "* [Introduction: Business Problem](#introduction)\n",
    "* [Data](#data)"
   ]
  },
  {
   "cell_type": "markdown",
   "metadata": {},
   "source": [
    "## Introduction: Business Problem <a name=\"introduction\"></a>"
   ]
  },
  {
   "cell_type": "markdown",
   "metadata": {},
   "source": [
    "In this project, I will try to find countries where you can eat what you usually eat in your country.\n",
    "\n",
    "Let's assume that you are to live abroad for some reason and you are wondering where to go. If you are a gourmet, lineup of restaurants will probably affect your decision. Even if you are not, what kind of restaurants are available in the country will affect whether you will be comfortable there.\n",
    "\n",
    "I will cluster almost all the countries in the world into 5 clusters based on the lineup of restaurants. By selecting one of the countries in the same cluster as yours, you will be satisfied with your life there. "
   ]
  },
  {
   "cell_type": "markdown",
   "metadata": {},
   "source": [
    "## Data <a name=\"data\"></a>"
   ]
  },
  {
   "cell_type": "markdown",
   "metadata": {},
   "source": [
    "Based on definition of our problem, factors that will influence our decision are:\n",
    "    number of existing restaurants in the neighborhood\n",
    "    category of each restaurant\n",
    "\n",
    "Each country has a lot of cities. I use capital cities to evaluate lineup of restaurants of the county as a capital city is a typical city of the country.\n",
    "\n",
    "Following data sources will be needed to extract/generate the required information:\n",
    "- List of countries will be obtained from this site: https://geographyfieldwork.com/WorldCapitalCities.htm\n",
    "- Location of the capital city of each country will be obtained by using *geopy.geocoders* library.\n",
    "- List of restaurants near the center of capital cities and their categories will be obtained by using Foursquare API."
   ]
  }
 ],
 "metadata": {
  "kernelspec": {
   "display_name": "Python",
   "language": "python",
   "name": "conda-env-python-py"
  },
  "language_info": {
   "codemirror_mode": {
    "name": "ipython",
    "version": 3
   },
   "file_extension": ".py",
   "mimetype": "text/x-python",
   "name": "python",
   "nbconvert_exporter": "python",
   "pygments_lexer": "ipython3",
   "version": "3.6.7"
  }
 },
 "nbformat": 4,
 "nbformat_minor": 4
}
